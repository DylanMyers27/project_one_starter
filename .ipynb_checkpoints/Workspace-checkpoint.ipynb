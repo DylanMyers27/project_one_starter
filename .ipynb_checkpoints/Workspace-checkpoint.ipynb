{
 "cells": [
  {
   "cell_type": "code",
   "execution_count": 1,
   "metadata": {
    "collapsed": false
   },
   "outputs": [],
   "source": [
    "import spacy\n",
    "nlp = spacy.load('en_core_web_sm') # load en_core_web_lg if you want"
   ]
  },
  {
   "cell_type": "code",
   "execution_count": 2,
   "metadata": {
    "collapsed": false
   },
   "outputs": [
    {
     "name": "stdout",
     "output_type": "stream",
     "text": [
      "20 CARDINAL\n",
      "Apple ORG\n",
      "100.5 MONEY\n"
     ]
    }
   ],
   "source": [
    "# input email content \n",
    "\n",
    "doc = nlp(u\"I would like to long 20 shares of Apple for price at $100.5.\")\n",
    "\n",
    "\n",
    "for entity in doc.ents:\n",
    "    print entity.text, entity.label_\n"
   ]
  },
  {
   "cell_type": "code",
   "execution_count": 3,
   "metadata": {
    "collapsed": false
   },
   "outputs": [
    {
     "name": "stdout",
     "output_type": "stream",
     "text": [
      "20 CARDINAL\n",
      "Apple ORG\n",
      "100.5 dollars MONEY\n"
     ]
    }
   ],
   "source": [
    "# we need to get the company name right. It is not a fruit, and we need to get the number right\n",
    "\n",
    "doc2 = nlp(u\"I would like to long 20 shares of Apple for price at 100.5 dollars.\")\n",
    "\n",
    "for entity in doc2.ents:\n",
    "    print entity.text, entity.label_"
   ]
  },
  {
   "cell_type": "code",
   "execution_count": 4,
   "metadata": {
    "collapsed": true
   },
   "outputs": [],
   "source": [
    "# we can go to yahoo finance or Athena to find the ticker and real price\n",
    "\n"
   ]
  },
  {
   "cell_type": "code",
   "execution_count": 5,
   "metadata": {
    "collapsed": false
   },
   "outputs": [
    {
     "name": "stdout",
     "output_type": "stream",
     "text": [
      "0.158609130016\n",
      "0.768326921525\n"
     ]
    }
   ],
   "source": [
    "\n",
    "# chatBot question / request / intend match \n",
    "buy_intend = nlp(u\"I would like to buy 20 shares of Apple stock\")\n",
    "\n",
    "\n",
    "qustion_1 = nlp(u\"How much is Apple today?\") \n",
    "qustion_2 = nlp(u\"Would you buy me 100 shares of Apple?\")\n",
    "\n",
    "print buy_intend.similarity(qustion_1)\n",
    "\n",
    "print buy_intend.similarity(qustion_2)"
   ]
  },
  {
   "cell_type": "code",
   "execution_count": null,
   "metadata": {
    "collapsed": true
   },
   "outputs": [],
   "source": []
  }
 ],
 "metadata": {
  "kernelspec": {
   "display_name": "Python 2",
   "language": "python",
   "name": "python2"
  },
  "language_info": {
   "codemirror_mode": {
    "name": "ipython",
    "version": 2
   },
   "file_extension": ".py",
   "mimetype": "text/x-python",
   "name": "python",
   "nbconvert_exporter": "python",
   "pygments_lexer": "ipython2",
   "version": "2.7.12"
  }
 },
 "nbformat": 4,
 "nbformat_minor": 1
}
